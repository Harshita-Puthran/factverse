{
  "nbformat": 4,
  "nbformat_minor": 0,
  "metadata": {
    "colab": {
      "provenance": [],
      "authorship_tag": "ABX9TyN+vM7na8tbM5H3yIcUMm+d",
      "include_colab_link": true
    },
    "kernelspec": {
      "name": "python3",
      "display_name": "Python 3"
    },
    "language_info": {
      "name": "python"
    }
  },
  "cells": [
    {
      "cell_type": "markdown",
      "metadata": {
        "id": "view-in-github",
        "colab_type": "text"
      },
      "source": [
        "<a href=\"https://colab.research.google.com/github/Harshita-Puthran/factverse/blob/main/factverse_detection_model.ipynb\" target=\"_parent\"><img src=\"https://colab.research.google.com/assets/colab-badge.svg\" alt=\"Open In Colab\"/></a>"
      ]
    },
    {
      "cell_type": "code",
      "execution_count": 2,
      "metadata": {
        "colab": {
          "base_uri": "https://localhost:8080/"
        },
        "id": "4rHvduq9iBO7",
        "outputId": "b3334a67-3070-4b66-ff45-6420fe7b346f"
      },
      "outputs": [
        {
          "output_type": "stream",
          "name": "stderr",
          "text": [
            "/usr/local/lib/python3.12/dist-packages/huggingface_hub/utils/_auth.py:94: UserWarning: \n",
            "The secret `HF_TOKEN` does not exist in your Colab secrets.\n",
            "To authenticate with the Hugging Face Hub, create a token in your settings tab (https://huggingface.co/settings/tokens), set it as secret in your Google Colab and restart your session.\n",
            "You will be able to reuse this secret in all of your notebooks.\n",
            "Please note that authentication is recommended but still optional to access public models or datasets.\n",
            "  warnings.warn(\n"
          ]
        }
      ],
      "source": [
        "import pandas as pd\n",
        "\n",
        "df = pd.read_parquet(\"hf://datasets/NickyNicky/global-news-dataset/data/train-00000-of-00001.parquet\")"
      ]
    },
    {
      "cell_type": "code",
      "source": [
        "print(df.head(100))"
      ],
      "metadata": {
        "colab": {
          "base_uri": "https://localhost:8080/"
        },
        "id": "weZ3CtQliQlV",
        "outputId": "50de2e2e-d3be-408a-c718-c6269ab58636"
      },
      "execution_count": 3,
      "outputs": [
        {
          "output_type": "stream",
          "name": "stdout",
          "text": [
            "    article_id source_id                   source_name  \\\n",
            "0        89541      None  International Business Times   \n",
            "1        89542      None                    Prtimes.jp   \n",
            "2        89543      None                      VOA News   \n",
            "3        89545      None            The Indian Express   \n",
            "4        89547      None           The Times of Israel   \n",
            "..         ...       ...                           ...   \n",
            "95       89702      None                        Forbes   \n",
            "96       89704      None                     Aajtak.in   \n",
            "97       89707      None                     The Punch   \n",
            "98       89710      None                 TheJournal.ie   \n",
            "99       89714      None                           NPR   \n",
            "\n",
            "                                               author  \\\n",
            "0                                      Paavan MATHEMA   \n",
            "1                                                None   \n",
            "2          webdesk@voanews.com (Agence France-Presse)   \n",
            "3                                           Editorial   \n",
            "4                                         Jacob Magid   \n",
            "..                                                ...   \n",
            "95  Michelle Bruton, Contributor, \\n Michelle Brut...   \n",
            "96                                          aajtak.in   \n",
            "97                                   Adetutu Sobowale   \n",
            "98                                   The Journal team   \n",
            "99                                     Allison Aubrey   \n",
            "\n",
            "                                                title  \\\n",
            "0   UN Chief Urges World To 'Stop The Madness' Of ...   \n",
            "1               RANDEBOOよりワンランク上の大人っぽさが漂うニットとベストが新登場。   \n",
            "2   UN Chief Urges World to 'Stop the Madness' of ...   \n",
            "3   Sikkim warning: Hydroelectricity push must be ...   \n",
            "4   200 foreigners, dual nationals cut down in Ham...   \n",
            "..                                                ...   \n",
            "95  Meet Jenn Drummond, The First Woman To Complet...   \n",
            "96  दिल्ली में झटका प्रचंड, हिली दिल्ली...कांपा उत...   \n",
            "97             10 die, 82 missing in India lake burst   \n",
            "98  LIVEBLOG: Israel to impose 'complete siege' on...   \n",
            "99  Worldwide, women cook twice as much as men: On...   \n",
            "\n",
            "                                          description  \\\n",
            "0   UN Secretary-General Antonio Guterres urged th...   \n",
            "1   [株式会社Ainer]\\nRANDEBOO（ランデブー）では2023年7月18日(火)より公...   \n",
            "2   UN Secretary-General Antonio Guterres urged th...   \n",
            "3   Ecologists caution against the adverse effects...   \n",
            "4   France lost 35 citizens, Thailand 33, US 31, U...   \n",
            "..                                                ...   \n",
            "95  Jenn Drummond, mom of seven, decided to attemp...   \n",
            "96  दिल्ली-एनसीआर समेत उत्तर भारत में आज भूकंप के ...   \n",
            "97  10 persons have been confirmed dead, while 82 ...   \n",
            "98  The EU has strongly condemned the unprecedente...   \n",
            "99  A new gallop survey finds the gender gap in ho...   \n",
            "\n",
            "                                                  url  \\\n",
            "0   https://www.ibtimes.com/un-chief-urges-world-s...   \n",
            "1   https://prtimes.jp/main/html/rd/p/000000147.00...   \n",
            "2   https://www.voanews.com/a/un-chief-urges-world...   \n",
            "3   https://indianexpress.com/article/opinion/edit...   \n",
            "4   https://www.timesofisrael.com/200-foreigners-d...   \n",
            "..                                                ...   \n",
            "95  https://www.forbes.com/sites/michellebruton/20...   \n",
            "96  https://www.aajtak.in/india/delhi/video/strong...   \n",
            "97  https://punchng.com/10-die-82-missing-in-india...   \n",
            "98  https://www.thejournal.ie/israel-hamas-liveblo...   \n",
            "99  https://www.npr.org/sections/health-shots/2023...   \n",
            "\n",
            "                                         url_to_image  \\\n",
            "0   https://d.ibtimes.com/en/full/4496078/nepals-g...   \n",
            "1   https://prtimes.jp/i/32220/147/ogp/d32220-147-...   \n",
            "2   https://gdb.voanews.com/01000000-0a00-0242-60f...   \n",
            "3   https://images.indianexpress.com/2023/10/edit-...   \n",
            "4   https://static.timesofisrael.com/www/uploads/2...   \n",
            "..                                                ...   \n",
            "95  https://imageio.forbes.com/specials-images/ima...   \n",
            "96  https://akm-img-a-in.tosshub.com/aajtak/images...   \n",
            "97  https://cdn.punchng.com/wp-content/uploads/201...   \n",
            "98  https://img2.thejournal.ie/article/6190588/riv...   \n",
            "99  https://media.npr.org/assets/img/2023/10/30/ge...   \n",
            "\n",
            "                  published_at  \\\n",
            "0   2023-10-30 10:12:35.000000   \n",
            "1   2023-10-06 04:40:02.000000   \n",
            "2   2023-10-30 10:53:30.000000   \n",
            "3   2023-10-06 01:20:24.000000   \n",
            "4   2023-10-27 01:08:34.000000   \n",
            "..                         ...   \n",
            "95  2023-10-04 16:32:40.000000   \n",
            "96  2023-10-03 13:40:47.000000   \n",
            "97  2023-10-05 03:57:59.000000   \n",
            "98  2023-10-09 13:12:27.000000   \n",
            "99  2023-10-30 20:41:27.000000   \n",
            "\n",
            "                                              content category  \\\n",
            "0   UN Secretary-General Antonio Guterres urged th...    Nepal   \n",
            "1   RANDEBOO2023718()WEB2023 Autumn Winter \\n\"Nepa...    Nepal   \n",
            "2   Kathmandu, Nepal  UN Secretary-General Antonio...    Nepal   \n",
            "3   At least 14 persons lost their lives and more ...    Nepal   \n",
            "4   Scores of foreign citizens were killed, taken ...    Nepal   \n",
            "..                                                ...      ...   \n",
            "95  Jenn Drummond became the first woman to succes...    Nepal   \n",
            "96  - . - . , .\\n Strong earthquake tremors were f...    Nepal   \n",
            "97  10 persons have been confirmed dead, while 82 ...    Nepal   \n",
            "98  The death toll from this round of violence sin...    Nepal   \n",
            "99  Worldwide, women cook nearly 9 meals a week on...    Nepal   \n",
            "\n",
            "                                         full_content  \n",
            "0   UN Secretary-General Antonio Guterres urged th...  \n",
            "1                                                None  \n",
            "2                                                None  \n",
            "3   At least 14 persons lost their lives and more ...  \n",
            "4                                                None  \n",
            "..                                                ...  \n",
            "95  Jenn Drummond became the first woman to succes...  \n",
            "96                                               None  \n",
            "97  10 persons have been confirmed dead, while 82 ...  \n",
            "98                                               None  \n",
            "99  Worldwide, women cook nearly nine meals a week...  \n",
            "\n",
            "[100 rows x 12 columns]\n"
          ]
        }
      ]
    },
    {
      "cell_type": "code",
      "source": [
        "df.shape"
      ],
      "metadata": {
        "colab": {
          "base_uri": "https://localhost:8080/"
        },
        "id": "NoVPyHESiXpq",
        "outputId": "287bd915-851e-42ef-efdc-a2368fc6a521"
      },
      "execution_count": 4,
      "outputs": [
        {
          "output_type": "execute_result",
          "data": {
            "text/plain": [
              "(105375, 12)"
            ]
          },
          "metadata": {},
          "execution_count": 4
        }
      ]
    },
    {
      "cell_type": "code",
      "source": [
        "df.info()"
      ],
      "metadata": {
        "colab": {
          "base_uri": "https://localhost:8080/"
        },
        "id": "NfZP_lAQiy-b",
        "outputId": "cde5b813-3114-487c-cba1-ef444a624460"
      },
      "execution_count": 5,
      "outputs": [
        {
          "output_type": "stream",
          "name": "stdout",
          "text": [
            "<class 'pandas.core.frame.DataFrame'>\n",
            "RangeIndex: 105375 entries, 0 to 105374\n",
            "Data columns (total 12 columns):\n",
            " #   Column        Non-Null Count   Dtype \n",
            "---  ------        --------------   ----- \n",
            " 0   article_id    105375 non-null  int64 \n",
            " 1   source_id     24495 non-null   object\n",
            " 2   source_name   105375 non-null  object\n",
            " 3   author        97156 non-null   object\n",
            " 4   title         105335 non-null  object\n",
            " 5   description   104992 non-null  object\n",
            " 6   url           105375 non-null  object\n",
            " 7   url_to_image  99751 non-null   object\n",
            " 8   published_at  105375 non-null  object\n",
            " 9   content       105375 non-null  object\n",
            " 10  category      105333 non-null  object\n",
            " 11  full_content  58432 non-null   object\n",
            "dtypes: int64(1), object(11)\n",
            "memory usage: 9.6+ MB\n"
          ]
        }
      ]
    },
    {
      "cell_type": "code",
      "source": [
        "df.isnull().sum()"
      ],
      "metadata": {
        "colab": {
          "base_uri": "https://localhost:8080/",
          "height": 460
        },
        "id": "XdJCFYESi2lL",
        "outputId": "1f2baae7-1f5a-4f2b-a44e-f9479c615abd"
      },
      "execution_count": 6,
      "outputs": [
        {
          "output_type": "execute_result",
          "data": {
            "text/plain": [
              "article_id          0\n",
              "source_id       80880\n",
              "source_name         0\n",
              "author           8219\n",
              "title              40\n",
              "description       383\n",
              "url                 0\n",
              "url_to_image     5624\n",
              "published_at        0\n",
              "content             0\n",
              "category           42\n",
              "full_content    46943\n",
              "dtype: int64"
            ],
            "text/html": [
              "<div>\n",
              "<style scoped>\n",
              "    .dataframe tbody tr th:only-of-type {\n",
              "        vertical-align: middle;\n",
              "    }\n",
              "\n",
              "    .dataframe tbody tr th {\n",
              "        vertical-align: top;\n",
              "    }\n",
              "\n",
              "    .dataframe thead th {\n",
              "        text-align: right;\n",
              "    }\n",
              "</style>\n",
              "<table border=\"1\" class=\"dataframe\">\n",
              "  <thead>\n",
              "    <tr style=\"text-align: right;\">\n",
              "      <th></th>\n",
              "      <th>0</th>\n",
              "    </tr>\n",
              "  </thead>\n",
              "  <tbody>\n",
              "    <tr>\n",
              "      <th>article_id</th>\n",
              "      <td>0</td>\n",
              "    </tr>\n",
              "    <tr>\n",
              "      <th>source_id</th>\n",
              "      <td>80880</td>\n",
              "    </tr>\n",
              "    <tr>\n",
              "      <th>source_name</th>\n",
              "      <td>0</td>\n",
              "    </tr>\n",
              "    <tr>\n",
              "      <th>author</th>\n",
              "      <td>8219</td>\n",
              "    </tr>\n",
              "    <tr>\n",
              "      <th>title</th>\n",
              "      <td>40</td>\n",
              "    </tr>\n",
              "    <tr>\n",
              "      <th>description</th>\n",
              "      <td>383</td>\n",
              "    </tr>\n",
              "    <tr>\n",
              "      <th>url</th>\n",
              "      <td>0</td>\n",
              "    </tr>\n",
              "    <tr>\n",
              "      <th>url_to_image</th>\n",
              "      <td>5624</td>\n",
              "    </tr>\n",
              "    <tr>\n",
              "      <th>published_at</th>\n",
              "      <td>0</td>\n",
              "    </tr>\n",
              "    <tr>\n",
              "      <th>content</th>\n",
              "      <td>0</td>\n",
              "    </tr>\n",
              "    <tr>\n",
              "      <th>category</th>\n",
              "      <td>42</td>\n",
              "    </tr>\n",
              "    <tr>\n",
              "      <th>full_content</th>\n",
              "      <td>46943</td>\n",
              "    </tr>\n",
              "  </tbody>\n",
              "</table>\n",
              "</div><br><label><b>dtype:</b> int64</label>"
            ]
          },
          "metadata": {},
          "execution_count": 6
        }
      ]
    },
    {
      "cell_type": "code",
      "source": [
        "df['source_name'].value_counts().head(10)\n"
      ],
      "metadata": {
        "colab": {
          "base_uri": "https://localhost:8080/",
          "height": 429
        },
        "id": "mC_EtjSXo3Pj",
        "outputId": "08945fb5-e7a4-4bdb-f6ec-6f72af8bacf2"
      },
      "execution_count": 7,
      "outputs": [
        {
          "output_type": "execute_result",
          "data": {
            "text/plain": [
              "source_name\n",
              "ETF Daily News        16631\n",
              "The Times of India     7629\n",
              "GlobeNewswire          5485\n",
              "Forbes                 4423\n",
              "Biztoc.com             3968\n",
              "BBC News               3342\n",
              "Globalsecurity.org     3093\n",
              "Business Insider       2746\n",
              "ABC News               2188\n",
              "Marketscreener.com     1948\n",
              "Name: count, dtype: int64"
            ],
            "text/html": [
              "<div>\n",
              "<style scoped>\n",
              "    .dataframe tbody tr th:only-of-type {\n",
              "        vertical-align: middle;\n",
              "    }\n",
              "\n",
              "    .dataframe tbody tr th {\n",
              "        vertical-align: top;\n",
              "    }\n",
              "\n",
              "    .dataframe thead th {\n",
              "        text-align: right;\n",
              "    }\n",
              "</style>\n",
              "<table border=\"1\" class=\"dataframe\">\n",
              "  <thead>\n",
              "    <tr style=\"text-align: right;\">\n",
              "      <th></th>\n",
              "      <th>count</th>\n",
              "    </tr>\n",
              "    <tr>\n",
              "      <th>source_name</th>\n",
              "      <th></th>\n",
              "    </tr>\n",
              "  </thead>\n",
              "  <tbody>\n",
              "    <tr>\n",
              "      <th>ETF Daily News</th>\n",
              "      <td>16631</td>\n",
              "    </tr>\n",
              "    <tr>\n",
              "      <th>The Times of India</th>\n",
              "      <td>7629</td>\n",
              "    </tr>\n",
              "    <tr>\n",
              "      <th>GlobeNewswire</th>\n",
              "      <td>5485</td>\n",
              "    </tr>\n",
              "    <tr>\n",
              "      <th>Forbes</th>\n",
              "      <td>4423</td>\n",
              "    </tr>\n",
              "    <tr>\n",
              "      <th>Biztoc.com</th>\n",
              "      <td>3968</td>\n",
              "    </tr>\n",
              "    <tr>\n",
              "      <th>BBC News</th>\n",
              "      <td>3342</td>\n",
              "    </tr>\n",
              "    <tr>\n",
              "      <th>Globalsecurity.org</th>\n",
              "      <td>3093</td>\n",
              "    </tr>\n",
              "    <tr>\n",
              "      <th>Business Insider</th>\n",
              "      <td>2746</td>\n",
              "    </tr>\n",
              "    <tr>\n",
              "      <th>ABC News</th>\n",
              "      <td>2188</td>\n",
              "    </tr>\n",
              "    <tr>\n",
              "      <th>Marketscreener.com</th>\n",
              "      <td>1948</td>\n",
              "    </tr>\n",
              "  </tbody>\n",
              "</table>\n",
              "</div><br><label><b>dtype:</b> int64</label>"
            ]
          },
          "metadata": {},
          "execution_count": 7
        }
      ]
    },
    {
      "cell_type": "code",
      "source": [
        "\n",
        "df['published_at'] = pd.to_datetime(df['published_at'], errors='coerce')\n",
        "df['published_at'].dt.date.value_counts().sort_index().plot(kind='line')"
      ],
      "metadata": {
        "colab": {
          "base_uri": "https://localhost:8080/",
          "height": 467
        },
        "id": "5DJwbLT3pdmc",
        "outputId": "16cf4e85-1010-4a2f-a050-2d6d64e736ac"
      },
      "execution_count": 8,
      "outputs": [
        {
          "output_type": "execute_result",
          "data": {
            "text/plain": [
              "<Axes: xlabel='published_at'>"
            ]
          },
          "metadata": {},
          "execution_count": 8
        },
        {
          "output_type": "display_data",
          "data": {
            "text/plain": [
              "<Figure size 640x480 with 1 Axes>"
            ],
            "image/png": "[encoded data removed]"
          },
          "metadata": {}
        }
      ]
    },
    {
      "cell_type": "code",
      "source": [],
      "metadata": {
        "id": "IUr_CcFDpno8"
      },
      "execution_count": null,
      "outputs": []
    }
  ]
}